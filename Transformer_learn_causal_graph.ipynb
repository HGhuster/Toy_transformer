{
 "cells": [
  {
   "cell_type": "code",
   "execution_count": 1,
   "metadata": {},
   "outputs": [],
   "source": [
    "import numpy as np\n",
    "import torch\n",
    "import matplotlib.pyplot as plt\n",
    "import torch.nn as nn\n",
    "import torch.optim as optim\n",
    "from torch.utils.data import TensorDataset, DataLoader"
   ]
  },
  {
   "cell_type": "code",
   "execution_count": 2,
   "metadata": {},
   "outputs": [],
   "source": [
    "# Load data from text file\n",
    "Status = np.loadtxt(\"Status_2024_04_30.txt\", dtype=int)  # Specify dtype if known, for efficiency\n",
    "Target = np.loadtxt(\"Target_2024_04_30.txt\", dtype=float).T"
   ]
  },
  {
   "cell_type": "code",
   "execution_count": 3,
   "metadata": {},
   "outputs": [],
   "source": [
    "N=Status.shape[0]"
   ]
  },
  {
   "cell_type": "code",
   "execution_count": 4,
   "metadata": {},
   "outputs": [
    {
     "name": "stdout",
     "output_type": "stream",
     "text": [
      "(50000,) (25000,) (25000,)\n",
      "torch.Size([50000, 10]) torch.Size([25000, 10]) torch.Size([25000, 10])\n"
     ]
    }
   ],
   "source": [
    "Y_train=Status[:int(N/2),-1]\n",
    "Y_test=Status[int(N/2):int(0.75*N),-1]\n",
    "Y_val=Status[int(0.75*N):,-1]\n",
    "print(Y_train.shape,Y_test.shape,Y_val.shape)\n",
    "\n",
    "Target_train=torch.tensor(Target[:int(N/2),:]).float()\n",
    "Target_test=torch.tensor(Target[int(N/2):int(0.75*N),:]).float()\n",
    "Target_val=torch.tensor(Target[int(0.75*N):,:]).float()\n",
    "print(Target_train.shape,Target_test.shape,Target_val.shape)"
   ]
  },
  {
   "cell_type": "markdown",
   "metadata": {},
   "source": [
    "Notice that:\n",
    "1. Each row of above X matrice is the vector of status of node 1 to node T\n",
    "2. Each row of above Y is the status of node T+1\n",
    "\n",
    "Then we need to construct word embedding and positional encoding"
   ]
  },
  {
   "cell_type": "markdown",
   "metadata": {},
   "source": [
    "$$\\tilde{X}^T=\\begin{bmatrix}\n",
    "    e_{s_1}& e_{s_2}&\\cdots&e_{s_T}\\\\\n",
    "    e_1&e_2&\\cdots&e_T\n",
    "\\end{bmatrix}=\\begin{bmatrix}\n",
    "    \\mathcal{E}_{s_{1:T}}\\\\\n",
    "    \\mathbb{I}_{T}\n",
    "\\end{bmatrix}$$\n",
    "\n",
    "Generate $\\mathbb{I}_{T}$ and $\\mathcal{E}_{s_{1:T}}$\n",
    "\n",
    "The input of Transformer should be $\\tilde{X}^T$ and the output is $\\pi(s'|s_T)$"
   ]
  },
  {
   "cell_type": "markdown",
   "metadata": {},
   "source": [
    "#### Construct the input"
   ]
  },
  {
   "cell_type": "code",
   "execution_count": 49,
   "metadata": {},
   "outputs": [
    {
     "name": "stderr",
     "output_type": "stream",
     "text": [
      "/var/folders/pz/p8qzlrz11ndgpdncscl39lg80000gn/T/ipykernel_95419/3529077617.py:35: UserWarning: To copy construct from a tensor, it is recommended to use sourceTensor.clone().detach() or sourceTensor.clone().detach().requires_grad_(True), rather than torch.tensor(sourceTensor).\n",
      "  train_dataset=TensorDataset(torch.tensor(X_train_tilde).float(),torch.tensor(Target_train).float())\n",
      "/var/folders/pz/p8qzlrz11ndgpdncscl39lg80000gn/T/ipykernel_95419/3529077617.py:38: UserWarning: To copy construct from a tensor, it is recommended to use sourceTensor.clone().detach() or sourceTensor.clone().detach().requires_grad_(True), rather than torch.tensor(sourceTensor).\n",
      "  test_dataset=TensorDataset(torch.tensor(X_test_tilde).float(),torch.tensor(Target_test).float())\n"
     ]
    }
   ],
   "source": [
    "S=10\n",
    "T=20\n",
    "\n",
    "#number of random sequence\n",
    "\n",
    "\n",
    "I_S=np.identity(S)\n",
    "I_t=np.identity(T)\n",
    "\n",
    "#(iter,S+T,T)\n",
    "X_tilde_T=np.empty((N,S+T,T))\n",
    "\n",
    "\n",
    "for i in range(N):\n",
    "\n",
    "    epsilon_1_T=np.zeros((S,T))\n",
    "\n",
    "    #print(T)\n",
    "\n",
    "    for k in range(T):\n",
    "        epsilon_1_T[:,int(k)]=I_S[:,int(Status[i,int(k)])]\n",
    "\n",
    "    #print(Status[0])\n",
    "\n",
    "    X_tilde_T[i]=np.concatenate((epsilon_1_T,I_t),axis=0)\n",
    "\n",
    "\n",
    "X_tilde=X_tilde_T.transpose(0,2,1)\n",
    "\n",
    "X_train_tilde=torch.tensor(X_tilde[:int(N/2)])\n",
    "X_test_tilde=torch.tensor(X_tilde[int(N/2):int(0.75*N)])\n",
    "X_val_tilde=torch.tensor(X_tilde[int(0.75*N):])\n",
    "\n",
    "batch_size=int(N/2)\n",
    "train_dataset=TensorDataset(torch.tensor(X_train_tilde).float(),torch.tensor(Target_train).float())\n",
    "train_data=DataLoader(train_dataset,batch_size=batch_size)\n",
    "\n",
    "test_dataset=TensorDataset(torch.tensor(X_test_tilde).float(),torch.tensor(Target_test).float())\n",
    "test_data=DataLoader(test_dataset,batch_size=batch_size)"
   ]
  },
  {
   "cell_type": "code",
   "execution_count": 50,
   "metadata": {},
   "outputs": [],
   "source": [
    "a, a_label = next(iter(train_data))"
   ]
  },
  {
   "cell_type": "code",
   "execution_count": 51,
   "metadata": {},
   "outputs": [
    {
     "name": "stdout",
     "output_type": "stream",
     "text": [
      "torch.Size([50000, 20, 30])\n",
      "torch.Size([50000, 10])\n"
     ]
    }
   ],
   "source": [
    "# 打印出一个批次的数据大小\n",
    "print(a.shape)\n",
    "print(a_label.shape)"
   ]
  },
  {
   "cell_type": "markdown",
   "metadata": {},
   "source": [
    "#### Construct the target"
   ]
  },
  {
   "cell_type": "code",
   "execution_count": 52,
   "metadata": {},
   "outputs": [
    {
     "data": {
      "text/plain": [
       "<torch.utils.hooks.RemovableHandle at 0x7fcfa8064e50>"
      ]
     },
     "execution_count": 52,
     "metadata": {},
     "output_type": "execute_result"
    }
   ],
   "source": [
    "S=10\n",
    "T=20\n",
    "\n",
    "import torch\n",
    "\n",
    "# Example of defining a matrix\n",
    "total_matrix_A_1 = torch.randn(int(S+T), int(S+T), requires_grad=True)\n",
    "total_matrix_A_2 = torch.randn(int(2*S+2*T), int(2*S+2*T), requires_grad=True)\n",
    "W_tilde = torch.randn(int(S), int(4*S+4*T), requires_grad=True)\n",
    "\n",
    "\n",
    "# Define a mask where True means trainable\n",
    "mask_A_1 = torch.tensor([[True if (i in range(S,int(S+T))  and  j in range(int(S),int(S+T))) else False for j in range(int(S+T))] for i in range(int(S+T))])\n",
    "mask_A_2 = torch.tensor([[True if (i in range(0,S)  and  j in range(int(S+T),int(2*S+T))) else False for j in range(int(2*S+2*T))] for i in range(int(2*S+2*T))])\n",
    "mask_W = torch.tensor([[True if (j in range(int(2*S+2*T),int(3*S+2*T))) else False for j in range(int(4*S+4*T))]])\n",
    "mask_W_T = torch.tensor([[True if (j in range(int(2*S+2*T),int(3*S+2*T))) else False for j in range(int(4*S+4*T))]]).T\n",
    "\n",
    "# Hook to apply the mask to the gradients\n",
    "def apply_mask_1(grad):\n",
    "    return grad * mask_A_1.type_as(grad)\n",
    "\n",
    "def apply_mask_2(grad):\n",
    "    return grad * mask_A_2.type_as(grad)\n",
    "\n",
    "def apply_mask_W(grad):\n",
    "    return grad * mask_W.type_as(grad)\n",
    "\n",
    "def apply_mask_W_T(grad):\n",
    "    return grad * mask_W_T.type_as(grad)\n",
    "\n",
    "# Attach the hook\n",
    "total_matrix_A_1.register_hook(apply_mask_1)\n",
    "\n",
    "total_matrix_A_2.register_hook(apply_mask_2)\n",
    "\n",
    "W_tilde.register_hook(apply_mask_W)\n",
    "\n",
    "# output_3 = W_tilde.sum()\n",
    "# output_3.backward()\n",
    "# print(W_tilde.grad[:,int(2*S+2*T-1):int(3*S+2*T+1)])\n",
    "\n",
    "\n",
    "\n",
    "# # Example usage in a dummy forward pass\n",
    "# output_2 = total_matrix_A_2.sum()\n",
    "# output_2.backward()\n",
    "\n",
    "\n",
    "\n",
    "# # Set print options\n",
    "# torch.set_printoptions(threshold=10_000)\n",
    "# # Check gradients\n",
    "# print(total_matrix_A_2.grad)\n",
    "\n",
    "# output_1 = total_matrix_A_1.sum()\n",
    "# output_1.backward()\n",
    "# print(total_matrix_A_1.grad[10:])\n"
   ]
  },
  {
   "cell_type": "code",
   "execution_count": 53,
   "metadata": {},
   "outputs": [],
   "source": [
    "# # Define a mask where True means trainable\n",
    "# grad_mask_A_1 = torch.tensor([[True if (i in range(S,int(S+T))  and  j in range(int(S),int(S+T))) else False for j in range(int(S+T))] for i in range(int(S+T))])\n",
    "# grad_mask_A_2 = torch.tensor([[True if (i in range(0,S)  and  j in range(int(S+T),int(2*S+T))) else False for j in range(int(2*S+2*T))] for i in range(int(2*S+2*T))])\n",
    "\n",
    "# # Hook to apply the mask to the gradients\n",
    "# def apply_mask_1(grad):\n",
    "#     return grad * grad_mask_A_1.type_as(grad)\n",
    "\n",
    "# def apply_mask_2(grad):\n",
    "#     return grad * grad_mask_A_2.type_as(grad)\n"
   ]
  },
  {
   "cell_type": "markdown",
   "metadata": {},
   "source": [
    "$$\n",
    "\\begin{equation*}\n",
    "    \\begin{split}\n",
    "        \\tilde A^{(1)}&=\\begin{bmatrix}\n",
    "            0_{S\\times S} & 0_{S\\times T}\\\\\n",
    "            0_{T\\times S} & A^{(1)}_1\n",
    "        \\end{bmatrix}\\\\\n",
    "        % \\tilde A_2^{(1)}&=\\begin{bmatrix}\n",
    "        %     0_{S\\times S} & 0_{S\\times T}\\\\\n",
    "        %     0_{T\\times S} & A^{(1)}_2\n",
    "        % \\end{bmatrix}\\\\\n",
    "        \\tilde A^{(2)}&=\\begin{bmatrix}\n",
    "            0_{S\\times S} & 0_{S\\times T} & A^{(2)} & 0_{S\\times T}\\\\\n",
    "            0_{T\\times S} & 0_{T\\times T} & 0_{T\\times S} & 0_{T\\times T}\\\\\n",
    "            0_{S\\times S} & 0_{S\\times T} & 0_{S\\times S} & 0_{S\\times T}\\\\\n",
    "            0_{T\\times S} & 0_{T\\times T} & 0_{T\\times S} & 0_{T\\times T}\\\\\n",
    "        \\end{bmatrix}\\\\\n",
    "    \\end{split}\n",
    "\\end{equation*}\n",
    "$$\n",
    "\n",
    "$$\n",
    "attn(h;A)=\\mathcal{S}(MASK(hAh^T))h\n",
    "$$\n",
    "\n",
    "$$\n",
    "\\underset{T\\times (S+T)}{h^{0}}=\\tilde{X}=\\begin{bmatrix}\n",
    "    e_{s_1}& e_{s_2}&\\cdots&e_{s_T}\\\\\n",
    "    e_1&e_2&\\cdots&e_T\n",
    "\\end{bmatrix}^T\n",
    "$$\n",
    "\n",
    "$$\n",
    "\\underset{T\\times (1+m_\\ell)(S+T)}{h^{(\\ell)}}=\\bigl[h^{(\\ell-1)},attn(h^{(\\ell-1)};\\widetilde{A}^{(\\ell)}_1),\\cdots,attn(h^{(\\ell-1)};\\widetilde{A}^{(\\ell)}_1)\\bigr]\n",
    "$$\n",
    "\n",
    "$$\n",
    "\\widetilde{TF}_{\\tilde\\theta}(S_{1:T})=h^{(L)}\\widetilde {W}_O^T\n",
    "$$\n",
    "\n",
    "$$\n",
    "dim(\\widetilde {W}_O)=S\\times (1+m_2)(S+T)\n",
    "$$"
   ]
  },
  {
   "cell_type": "code",
   "execution_count": 54,
   "metadata": {},
   "outputs": [],
   "source": [
    "# total_matrix_A_1 = torch.zeros(int(S+T), int(S+T), requires_grad=True)\n",
    "# total_matrix_A_1.register_hook(apply_mask_1)\n",
    "\n",
    "# total_matrix_A_1=total_matrix_A_1.float()\n",
    "\n",
    "# total_matrix_A_2 = torch.zeros(int(2*S+2*T), int(2*S+2*T), requires_grad=True)\n",
    "# total_matrix_A_2.register_hook(apply_mask_2)\n",
    "\n",
    "# total_matrix_A_2=total_matrix_A_2.float()\n",
    "\n",
    "# W_tilde = torch.zeros(int(S), int(4*S+4*T), requires_grad=True)\n",
    "# W_tilde.register_hook(apply_mask_W)\n",
    "\n",
    "# W_tilde=W_tilde.float()\n",
    "# W_tilde_T=W_tilde.T"
   ]
  },
  {
   "cell_type": "code",
   "execution_count": 55,
   "metadata": {},
   "outputs": [],
   "source": [
    "mask_layer_1=torch.triu(torch.ones(T, T, dtype=torch.bool), diagonal=1)\n",
    "\n",
    "class Attention_1(nn.Module):\n",
    "    def __init__(self):\n",
    "        super(Attention_1, self).__init__()\n",
    "\n",
    "        #Random initialize the matrix A_1\n",
    "        # self.total_matrix_A_1 = torch.zeros(int(S+T), int(S+T), requires_grad=True)\n",
    "        # self.total_matrix_A_1 = nn.Linear(int(S+T),int(S+T),bias=False)\n",
    "        # self.total_matrix_A_1 = nn.Parameter(torch.zeros(int(S+T), int(S+T)))\n",
    "\n",
    "        self.trainable_part = nn.Parameter(torch.zeros(T, T))\n",
    "        self.non_trainable_part_1 = torch.zeros(S, int(S+T), requires_grad=False)\n",
    "        self.non_trainable_part_2 = torch.zeros(T, S, requires_grad=False)\n",
    "\n",
    "    def forward(self, h_0,attn_mask):\n",
    "        # A_1=self.total_matrix_A_1.register_hook(apply_mask_1)\n",
    "        # self.total_matrix_A_1.register_hook(apply_mask_1)\n",
    "\n",
    "        total_matrix_A_1=torch.cat((self.non_trainable_part_2,self.trainable_part),dim=1)\n",
    "        total_matrix_A_1=torch.cat((self.non_trainable_part_1,total_matrix_A_1),dim=0)\n",
    "\n",
    "        h_0=h_0.float()\n",
    "\n",
    "        total_matrix_A_1=total_matrix_A_1.unsqueeze(0)\n",
    "        total_matrix_A_1=total_matrix_A_1.repeat(h_0.shape[0],1,1)\n",
    "\n",
    "        # print(total_matrix_A_1.shape, h_0.shape)\n",
    "\n",
    "        scores = torch.bmm(h_0, total_matrix_A_1) \n",
    "\n",
    "        scores = torch.bmm(scores,h_0.transpose(1,2))\n",
    "        # print(scores.shape)\n",
    "\n",
    "        attn_mask = attn_mask.unsqueeze(0)\n",
    "        attn_mask = attn_mask.repeat(scores.shape[0],1,1)\n",
    "\n",
    "        \n",
    "\n",
    "        scores.masked_fill_(attn_mask, -1e9) # Fills elements of self tensor with value where mask is one.\n",
    "        #row-wise softmax\n",
    "        attn = nn.Softmax(dim=-1)(scores)\n",
    "        context = torch.bmm(attn, h_0)\n",
    "        # print('layer 1 output shape: ',context.shape)\n",
    "\n",
    "        return context #, attn\n",
    "\n",
    "\n",
    "\n",
    "class Attention_2(nn.Module):\n",
    "    def __init__(self):\n",
    "        super(Attention_2, self).__init__()\n",
    "\n",
    "        #Random initialize the matrix A_2\n",
    "        # self.total_matrix_A_2 = torch.zeros(int(2*S+2*T), int(2*S+2*T), requires_grad=True)\n",
    "        # self.total_matrix_A_2 = nn.Linear(int(2*S+2*T),int(2*S+2*T),bias=False)\n",
    "        # self.total_matrix_A_2 = nn.Parameter(torch.zeros(int(2*S+2*T), int(2*S+2*T)))\n",
    "        self.trainable_part = nn.Parameter(torch.zeros(S, S))\n",
    "        self.non_trainable_part_1 = torch.zeros(S, int(S+T), requires_grad=False)\n",
    "        self.non_trainable_part_2 = torch.zeros(S, T, requires_grad=False)\n",
    "        self.non_trainable_part_3 = torch.zeros(2*T+S, 2*S+2*T, requires_grad=False)\n",
    "\n",
    "    def forward(self, h_1):\n",
    "        # self.total_matrix_A_2.register_hook(apply_mask_2)\n",
    "        total_matrix_A_2=torch.cat((self.non_trainable_part_1,self.trainable_part,self.non_trainable_part_2),dim=1)\n",
    "        total_matrix_A_2=torch.cat((total_matrix_A_2,self.non_trainable_part_3),dim=0)\n",
    "        \n",
    "        h_1=h_1.float()\n",
    "        \n",
    "        total_matrix_A_2=total_matrix_A_2.unsqueeze(0)\n",
    "        total_matrix_A_2=total_matrix_A_2.repeat(h_1.shape[0],1,1)\n",
    "        #print(\"total_matrix_A_2_shape: \",total_matrix_A_2.shape)\n",
    "\n",
    "        scores = torch.bmm(h_1, total_matrix_A_2) \n",
    "        scores = torch.bmm(scores,h_1.transpose(1,2))\n",
    "        #row-wise softmax\n",
    "        \n",
    "        attn = nn.Softmax(dim=-1)(scores)\n",
    "        context = torch.bmm(attn, h_1)\n",
    "        #print('layer 2 output shape: ',context.shape)\n",
    "        \n",
    "        return context #, attn\n",
    "\n",
    "\n",
    "class Transformer(nn.Module):\n",
    "    def __init__(self):\n",
    "        super(Transformer, self).__init__()\n",
    "        self.attention_1 = Attention_1()\n",
    "        self.attention_2 = Attention_2()\n",
    "        # self.linear = nn.Linear(2*S+2*T, 1)\n",
    "        # self.W_tilde_T = nn.Parameter(torch.zeros(int(4*S+4*T), int(S)).float())\n",
    "        self.trainable_part = nn.Parameter(torch.zeros(S, S))\n",
    "        self.non_trainable_part_1 = torch.zeros((2*S+2*T), S, requires_grad=False)\n",
    "        self.non_trainable_part_2 = torch.zeros((S+2*T), S, requires_grad=False)\n",
    "\n",
    "    def forward(self, X):\n",
    "        W_tilde_T=torch.cat((self.non_trainable_part_1,self.trainable_part,self.non_trainable_part_2),dim=0)\n",
    "\n",
    "        attn_mask = mask_layer_1\n",
    "        context_1 = self.attention_1(X, attn_mask)\n",
    "        # print('h_0 shape: ',X.shape)\n",
    "        \n",
    "        h_1=torch.cat((X,context_1),dim=-1).float()\n",
    "        # print(\"h_1 shape: \",h_1.shape) \n",
    "        # print(h_1.shape)\n",
    "        \n",
    "        context_2 = self.attention_2(h_1)\n",
    "        h_2=torch.cat((h_1,context_2),dim=-1).float()\n",
    "        # output = self.linear(h_1)\n",
    "        \n",
    "        output=torch.matmul(h_2,W_tilde_T)\n",
    "        #print('output shape: ',output.shape)\n",
    "        \n",
    "        return output#, W_tilde_T#,attn_1,attn_2"
   ]
  },
  {
   "cell_type": "code",
   "execution_count": 56,
   "metadata": {},
   "outputs": [],
   "source": [
    "# mask_layer_1=torch.triu(torch.ones(T, T, dtype=torch.bool), diagonal=1)\n",
    "\n",
    "# class ScaledDotProductAttention(nn.Module):\n",
    "#     def __init__(self):\n",
    "#         super(ScaledDotProductAttention, self).__init__()\n",
    "#         #Random initialize the matrix A_1\n",
    "#         self.total_matrix_A_1 = torch.randn(int(S+T), int(S+T), requires_grad=True)\n",
    "\n",
    "\n",
    "#     def forward(self, h_0, attn_mask):\n",
    "#         A_1=self.total_matrix_A_1.register_hook(apply_mask_1)\n",
    "        \n",
    "#         scores = torch.matmul(h_0, A_1) \n",
    "#         scores = torch.matmul(scores,h_0.transpose)\n",
    "#         scores.masked_fill_(attn_mask, -1e9) # Fills elements of self tensor with value where mask is one.\n",
    "#         attn = nn.Softmax(dim=-1)(scores)\n",
    "#         context = torch.matmul(attn, h_0)\n",
    "#         return context, attn"
   ]
  },
  {
   "cell_type": "code",
   "execution_count": 72,
   "metadata": {},
   "outputs": [],
   "source": [
    "net=Transformer()\n",
    "# for param in net.parameters():\n",
    "#     print(param)\n",
    "#     param.requires_grad = False\n",
    "#     print(param.requires_grad)\n",
    "\n",
    "# net.attention_1.total_matrix_A_1[S:,S:].requires_grad = True\n",
    "# net.attention_2.total_matrix_A_2[0:S,int(S+T):int(2*S+T)].requires_grad = True\n",
    "# net.W_tilde_T[int(2*S+2*T):int(3*S+2*T),:].requires_grad = True\n",
    "\n",
    "# print(\"Requires grad for A_1 section:\", net.attention_1.total_matrix_A_1[S:, S:].requires_grad)\n",
    "# print(\"Requires grad for A_2 section:\", net.attention_2.total_matrix_A_2[0:S, int(S+T):int(2*S+T)].requires_grad)\n",
    "# print(\"Requires grad for W_tilde_T section:\", net.W_tilde_T[int(2*S+2*T):int(3*S+2*T), :].requires_grad)\n",
    "\n",
    "\n",
    "# print(\"Total matrix A_1 shape:\", net.attention_1.total_matrix_A_1.shape)\n",
    "# print(\"Total matrix A_2 shape:\", net.attention_2.total_matrix_A_2.shape)\n",
    "# print(\"W_tilde_T shape:\", net.W_tilde_T.shape)\n",
    "\n",
    "\n",
    "criterion = nn.CrossEntropyLoss()\n",
    "\n",
    "# trainable_params = [p for p in net.parameters() if p.requires_grad]\n",
    "\n",
    "optimizer = torch.optim.SGD(net.parameters(), lr=0.01)\n",
    "\n",
    "# # Assuming these are the tensors you want to optimize\n",
    "# total_matrix_A_1 = torch.nn.Parameter(total_matrix_A_1)\n",
    "# total_matrix_A_1.register_hook(apply_mask_1)\n",
    "# total_matrix_A_2 = torch.nn.Parameter(total_matrix_A_2)\n",
    "# total_matrix_A_2.register_hook(apply_mask_2)\n",
    "# W_tilde_T = torch.nn.Parameter(W_tilde_T)\n",
    "# W_tilde_T.register_hook(apply_mask_W_T)\n",
    "\n",
    "# # Creating a list of parameters\n",
    "# parameters = [total_matrix_A_1, total_matrix_A_2, W_tilde_T]\n",
    "\n",
    "# Initializing the optimizer\n"
   ]
  },
  {
   "cell_type": "code",
   "execution_count": 73,
   "metadata": {},
   "outputs": [],
   "source": [
    "# plt.imshow(parameters[0].detach().numpy(), cmap='hot')  # 'hot' is a popular colormap for heatmaps\n",
    "# plt.colorbar()  # Show color scale"
   ]
  },
  {
   "cell_type": "code",
   "execution_count": 74,
   "metadata": {},
   "outputs": [],
   "source": [
    "# # 开始训练\n",
    "# losses = []\n",
    "# acces = []\n",
    "# eval_losses = []\n",
    "# eval_acces = []\n",
    "\n",
    "# for e in range(10):\n",
    "#     train_loss = 0\n",
    "#     train_acc = 0\n",
    "#     net.train()\n",
    "#     for im, label in train_data:\n",
    "        \n",
    "#         # im = Variable(im)\n",
    "#         # label = Variable(label)\n",
    "#         # 前向传播x\n",
    "\n",
    "#         out = net(im)[:,-1,:]\n",
    "#         loss = criterion(out, label)\n",
    "\n",
    "#         # 反向传播\n",
    "        \n",
    "#         optimizer.zero_grad()\n",
    "#         loss.backward()\n",
    "#         optimizer.step()\n",
    "        \n",
    "#         # 记录误差\n",
    "        \n",
    "#         train_loss += loss.item()\n",
    "        \n",
    "        \n",
    "#     losses.append(train_loss / len(train_data))"
   ]
  },
  {
   "cell_type": "code",
   "execution_count": 75,
   "metadata": {},
   "outputs": [],
   "source": [
    "# 开始训练\n",
    "losses = []\n",
    "acces = []\n",
    "eval_losses = []\n",
    "eval_acces = []\n",
    "\n",
    "for e in range(10):\n",
    "    train_loss = 0\n",
    "    train_acc = 0\n",
    "    net.train()\n",
    "    for im, label in train_data:\n",
    "        \n",
    "        # im = Variable(im)\n",
    "        # label = Variable(label)\n",
    "        # 前向传播x\n",
    "\n",
    "        out = net(im)[:,-1,:]\n",
    "        loss = criterion(out, label)\n",
    "\n",
    "        # 反向传播\n",
    "        \n",
    "        optimizer.zero_grad()\n",
    "        loss.backward()\n",
    "        optimizer.step()\n",
    "        \n",
    "        # 记录误差\n",
    "        \n",
    "        train_loss += loss.item()\n",
    "        \n",
    "        \n",
    "    losses.append(train_loss / len(train_data))"
   ]
  },
  {
   "cell_type": "code",
   "execution_count": 76,
   "metadata": {},
   "outputs": [
    {
     "data": {
      "text/plain": [
       "2.302584409713745"
      ]
     },
     "execution_count": 76,
     "metadata": {},
     "output_type": "execute_result"
    }
   ],
   "source": [
    "losses[0]"
   ]
  },
  {
   "cell_type": "code",
   "execution_count": 77,
   "metadata": {},
   "outputs": [
    {
     "data": {
      "text/plain": [
       "Text(0, 0.5, 'Loss')"
      ]
     },
     "execution_count": 77,
     "metadata": {},
     "output_type": "execute_result"
    },
    {
     "data": {
      "image/png": "[encoded data removed]",
      "text/plain": [
       "<Figure size 432x288 with 1 Axes>"
      ]
     },
     "metadata": {
      "needs_background": "light"
     },
     "output_type": "display_data"
    }
   ],
   "source": [
    "# Create a line plot of `losses`\n",
    "plt.plot(losses)\n",
    "\n",
    "# Add labels and title\n",
    "plt.xlabel('Iteration')\n",
    "plt.ylabel('Loss')"
   ]
  },
  {
   "cell_type": "code",
   "execution_count": 78,
   "metadata": {},
   "outputs": [
    {
     "data": {
      "text/plain": [
       "2.30257248878479"
      ]
     },
     "execution_count": 78,
     "metadata": {},
     "output_type": "execute_result"
    }
   ],
   "source": [
    "losses[-1]"
   ]
  },
  {
   "cell_type": "code",
   "execution_count": 79,
   "metadata": {},
   "outputs": [
    {
     "data": {
      "text/plain": [
       "<matplotlib.colorbar.Colorbar at 0x7fcff9f12520>"
      ]
     },
     "execution_count": 79,
     "metadata": {},
     "output_type": "execute_result"
    },
    {
     "data": {
      "image/png": "[encoded data removed]",
      "text/plain": [
       "<Figure size 432x288 with 2 Axes>"
      ]
     },
     "metadata": {
      "needs_background": "light"
     },
     "output_type": "display_data"
    }
   ],
   "source": [
    "weight_fig=net.trainable_part.detach().numpy()\n",
    "plt.imshow(weight_fig, cmap='hot')  # 'hot' is a popular colormap for heatmaps\n",
    "plt.colorbar()  # Show color scale"
   ]
  },
  {
   "cell_type": "code",
   "execution_count": 80,
   "metadata": {},
   "outputs": [
    {
     "data": {
      "text/plain": [
       "<matplotlib.colorbar.Colorbar at 0x7fd01ac90730>"
      ]
     },
     "execution_count": 80,
     "metadata": {},
     "output_type": "execute_result"
    },
    {
     "data": {
      "image/png": "[encoded data removed]",
      "text/plain": [
       "<Figure size 432x288 with 2 Axes>"
      ]
     },
     "metadata": {
      "needs_background": "light"
     },
     "output_type": "display_data"
    }
   ],
   "source": [
    "weight_fig=net.non_trainable_part_1.detach().numpy()\n",
    "plt.imshow(weight_fig, cmap='hot')  # 'hot' is a popular colormap for heatmaps\n",
    "plt.colorbar()  # Show color scale"
   ]
  },
  {
   "cell_type": "code",
   "execution_count": 81,
   "metadata": {},
   "outputs": [
    {
     "data": {
      "text/plain": [
       "<matplotlib.colorbar.Colorbar at 0x7fcff9eac070>"
      ]
     },
     "execution_count": 81,
     "metadata": {},
     "output_type": "execute_result"
    },
    {
     "data": {
      "image/png": "[encoded data removed]",
      "text/plain": [
       "<Figure size 432x288 with 2 Axes>"
      ]
     },
     "metadata": {
      "needs_background": "light"
     },
     "output_type": "display_data"
    }
   ],
   "source": [
    "weight_fig=net.non_trainable_part_2.detach().numpy()\n",
    "plt.imshow(weight_fig, cmap='hot')  # 'hot' is a popular colormap for heatmaps\n",
    "plt.colorbar()  # Show color scale"
   ]
  },
  {
   "cell_type": "code",
   "execution_count": 82,
   "metadata": {},
   "outputs": [
    {
     "data": {
      "text/plain": [
       "<matplotlib.colorbar.Colorbar at 0x7fcff9974280>"
      ]
     },
     "execution_count": 82,
     "metadata": {},
     "output_type": "execute_result"
    },
    {
     "data": {
      "image/png": "[encoded data removed]",
      "text/plain": [
       "<Figure size 432x288 with 2 Axes>"
      ]
     },
     "metadata": {
      "needs_background": "light"
     },
     "output_type": "display_data"
    }
   ],
   "source": [
    "A_1_fig=net.attention_1.trainable_part.detach().numpy()\n",
    "plt.imshow(A_1_fig, cmap='hot')  # 'hot' is a popular colormap for heatmaps\n",
    "plt.colorbar()  # Show color scale"
   ]
  },
  {
   "cell_type": "code",
   "execution_count": 83,
   "metadata": {},
   "outputs": [
    {
     "data": {
      "text/plain": [
       "<matplotlib.colorbar.Colorbar at 0x7fcff9031a30>"
      ]
     },
     "execution_count": 83,
     "metadata": {},
     "output_type": "execute_result"
    },
    {
     "data": {
      "image/png": "[encoded data removed]",
      "text/plain": [
       "<Figure size 432x288 with 2 Axes>"
      ]
     },
     "metadata": {
      "needs_background": "light"
     },
     "output_type": "display_data"
    }
   ],
   "source": [
    "A_1_fig=net.attention_1.non_trainable_part_1.detach().numpy()\n",
    "plt.imshow(A_1_fig, cmap='hot')  # 'hot' is a popular colormap for heatmaps\n",
    "plt.colorbar()  # Show color scale"
   ]
  },
  {
   "cell_type": "code",
   "execution_count": 84,
   "metadata": {},
   "outputs": [
    {
     "data": {
      "text/plain": [
       "<matplotlib.colorbar.Colorbar at 0x7fd01acf2370>"
      ]
     },
     "execution_count": 84,
     "metadata": {},
     "output_type": "execute_result"
    },
    {
     "data": {
      "image/png": "[encoded data removed]",
      "text/plain": [
       "<Figure size 432x288 with 2 Axes>"
      ]
     },
     "metadata": {
      "needs_background": "light"
     },
     "output_type": "display_data"
    }
   ],
   "source": [
    "A_1_fig=net.attention_1.non_trainable_part_2.detach().numpy()\n",
    "plt.imshow(A_1_fig, cmap='hot')  # 'hot' is a popular colormap for heatmaps\n",
    "plt.colorbar()  # Show color scale"
   ]
  },
  {
   "cell_type": "code",
   "execution_count": 85,
   "metadata": {},
   "outputs": [
    {
     "data": {
      "text/plain": [
       "<matplotlib.colorbar.Colorbar at 0x7fd01abb6700>"
      ]
     },
     "execution_count": 85,
     "metadata": {},
     "output_type": "execute_result"
    },
    {
     "data": {
      "image/png": "[encoded data removed]",
      "text/plain": [
       "<Figure size 432x288 with 2 Axes>"
      ]
     },
     "metadata": {
      "needs_background": "light"
     },
     "output_type": "display_data"
    }
   ],
   "source": [
    "A_2_fig=net.attention_2.trainable_part.detach().numpy()\n",
    "plt.imshow(A_2_fig, cmap='hot')  # 'hot' is a popular colormap for heatmaps\n",
    "plt.colorbar()  # Show color scale"
   ]
  },
  {
   "cell_type": "code",
   "execution_count": 86,
   "metadata": {},
   "outputs": [],
   "source": [
    "# for j in range(20):\n",
    "#     loss=np.empty(X_train_tilde.shape[0])\n",
    "#     for i in range(X_train_tilde.shape[0]):\n",
    "#         temp=net(X_train_tilde[i])[0][-1,:].float()+1e-6\n",
    "#         loss[i]=-torch.matmul(Target_train[i],torch.log(temp))\n",
    "\n",
    "#     Loss=sum(loss)/iter\n",
    "#     print(Loss)"
   ]
  },
  {
   "cell_type": "code",
   "execution_count": 87,
   "metadata": {},
   "outputs": [
    {
     "ename": "RuntimeError",
     "evalue": "Expected 3-dimensional tensor, but got 2-dimensional tensor for argument #1 'batch1' (while checking arguments for bmm)",
     "output_type": "error",
     "traceback": [
      "\u001b[0;31m---------------------------------------------------------------------------\u001b[0m",
      "\u001b[0;31mRuntimeError\u001b[0m                              Traceback (most recent call last)",
      "\u001b[0;32m/var/folders/pz/p8qzlrz11ndgpdncscl39lg80000gn/T/ipykernel_95419/1398683277.py\u001b[0m in \u001b[0;36m<module>\u001b[0;34m\u001b[0m\n\u001b[1;32m      1\u001b[0m \u001b[0mloss\u001b[0m\u001b[0;34m=\u001b[0m\u001b[0mnp\u001b[0m\u001b[0;34m.\u001b[0m\u001b[0mempty\u001b[0m\u001b[0;34m(\u001b[0m\u001b[0mX_train_tilde\u001b[0m\u001b[0;34m.\u001b[0m\u001b[0mshape\u001b[0m\u001b[0;34m[\u001b[0m\u001b[0;36m0\u001b[0m\u001b[0;34m]\u001b[0m\u001b[0;34m)\u001b[0m\u001b[0;34m\u001b[0m\u001b[0;34m\u001b[0m\u001b[0m\n\u001b[1;32m      2\u001b[0m \u001b[0;32mfor\u001b[0m \u001b[0mi\u001b[0m \u001b[0;32min\u001b[0m \u001b[0mrange\u001b[0m\u001b[0;34m(\u001b[0m\u001b[0mX_train_tilde\u001b[0m\u001b[0;34m.\u001b[0m\u001b[0mshape\u001b[0m\u001b[0;34m[\u001b[0m\u001b[0;36m0\u001b[0m\u001b[0;34m]\u001b[0m\u001b[0;34m)\u001b[0m\u001b[0;34m:\u001b[0m\u001b[0;34m\u001b[0m\u001b[0;34m\u001b[0m\u001b[0m\n\u001b[0;32m----> 3\u001b[0;31m     \u001b[0mtemp\u001b[0m\u001b[0;34m=\u001b[0m\u001b[0mnet\u001b[0m\u001b[0;34m(\u001b[0m\u001b[0mX_train_tilde\u001b[0m\u001b[0;34m[\u001b[0m\u001b[0mi\u001b[0m\u001b[0;34m]\u001b[0m\u001b[0;34m)\u001b[0m\u001b[0;34m[\u001b[0m\u001b[0;36m0\u001b[0m\u001b[0;34m]\u001b[0m\u001b[0;34m[\u001b[0m\u001b[0;34m-\u001b[0m\u001b[0;36m1\u001b[0m\u001b[0;34m,\u001b[0m\u001b[0;34m:\u001b[0m\u001b[0;34m]\u001b[0m\u001b[0;34m.\u001b[0m\u001b[0mfloat\u001b[0m\u001b[0;34m(\u001b[0m\u001b[0;34m)\u001b[0m\u001b[0;34m+\u001b[0m\u001b[0;36m1e-6\u001b[0m\u001b[0;34m\u001b[0m\u001b[0;34m\u001b[0m\u001b[0m\n\u001b[0m\u001b[1;32m      4\u001b[0m     \u001b[0mloss\u001b[0m\u001b[0;34m[\u001b[0m\u001b[0mi\u001b[0m\u001b[0;34m]\u001b[0m\u001b[0;34m=\u001b[0m\u001b[0;34m-\u001b[0m\u001b[0mtorch\u001b[0m\u001b[0;34m.\u001b[0m\u001b[0mmatmul\u001b[0m\u001b[0;34m(\u001b[0m\u001b[0mTarget_train\u001b[0m\u001b[0;34m[\u001b[0m\u001b[0mi\u001b[0m\u001b[0;34m]\u001b[0m\u001b[0;34m,\u001b[0m\u001b[0mtorch\u001b[0m\u001b[0;34m.\u001b[0m\u001b[0mlog\u001b[0m\u001b[0;34m(\u001b[0m\u001b[0mtemp\u001b[0m\u001b[0;34m)\u001b[0m\u001b[0;34m)\u001b[0m\u001b[0;34m\u001b[0m\u001b[0;34m\u001b[0m\u001b[0m\n\u001b[1;32m      5\u001b[0m \u001b[0;34m\u001b[0m\u001b[0m\n",
      "\u001b[0;32m~/opt/anaconda3/envs/pytorch_env/lib/python3.8/site-packages/torch/nn/modules/module.py\u001b[0m in \u001b[0;36m_call_impl\u001b[0;34m(self, *input, **kwargs)\u001b[0m\n\u001b[1;32m   1100\u001b[0m         if not (self._backward_hooks or self._forward_hooks or self._forward_pre_hooks or _global_backward_hooks\n\u001b[1;32m   1101\u001b[0m                 or _global_forward_hooks or _global_forward_pre_hooks):\n\u001b[0;32m-> 1102\u001b[0;31m             \u001b[0;32mreturn\u001b[0m \u001b[0mforward_call\u001b[0m\u001b[0;34m(\u001b[0m\u001b[0;34m*\u001b[0m\u001b[0minput\u001b[0m\u001b[0;34m,\u001b[0m \u001b[0;34m**\u001b[0m\u001b[0mkwargs\u001b[0m\u001b[0;34m)\u001b[0m\u001b[0;34m\u001b[0m\u001b[0;34m\u001b[0m\u001b[0m\n\u001b[0m\u001b[1;32m   1103\u001b[0m         \u001b[0;31m# Do not call functions when jit is used\u001b[0m\u001b[0;34m\u001b[0m\u001b[0;34m\u001b[0m\u001b[0;34m\u001b[0m\u001b[0m\n\u001b[1;32m   1104\u001b[0m         \u001b[0mfull_backward_hooks\u001b[0m\u001b[0;34m,\u001b[0m \u001b[0mnon_full_backward_hooks\u001b[0m \u001b[0;34m=\u001b[0m \u001b[0;34m[\u001b[0m\u001b[0;34m]\u001b[0m\u001b[0;34m,\u001b[0m \u001b[0;34m[\u001b[0m\u001b[0;34m]\u001b[0m\u001b[0;34m\u001b[0m\u001b[0;34m\u001b[0m\u001b[0m\n",
      "\u001b[0;32m/var/folders/pz/p8qzlrz11ndgpdncscl39lg80000gn/T/ipykernel_95419/1947552867.py\u001b[0m in \u001b[0;36mforward\u001b[0;34m(self, X)\u001b[0m\n\u001b[1;32m     98\u001b[0m \u001b[0;34m\u001b[0m\u001b[0m\n\u001b[1;32m     99\u001b[0m         \u001b[0mattn_mask\u001b[0m \u001b[0;34m=\u001b[0m \u001b[0mmask_layer_1\u001b[0m\u001b[0;34m\u001b[0m\u001b[0;34m\u001b[0m\u001b[0m\n\u001b[0;32m--> 100\u001b[0;31m         \u001b[0mcontext_1\u001b[0m \u001b[0;34m=\u001b[0m \u001b[0mself\u001b[0m\u001b[0;34m.\u001b[0m\u001b[0mattention_1\u001b[0m\u001b[0;34m(\u001b[0m\u001b[0mX\u001b[0m\u001b[0;34m,\u001b[0m \u001b[0mattn_mask\u001b[0m\u001b[0;34m)\u001b[0m\u001b[0;34m\u001b[0m\u001b[0;34m\u001b[0m\u001b[0m\n\u001b[0m\u001b[1;32m    101\u001b[0m         \u001b[0;31m# print('h_0 shape: ',X.shape)\u001b[0m\u001b[0;34m\u001b[0m\u001b[0;34m\u001b[0m\u001b[0;34m\u001b[0m\u001b[0m\n\u001b[1;32m    102\u001b[0m \u001b[0;34m\u001b[0m\u001b[0m\n",
      "\u001b[0;32m~/opt/anaconda3/envs/pytorch_env/lib/python3.8/site-packages/torch/nn/modules/module.py\u001b[0m in \u001b[0;36m_call_impl\u001b[0;34m(self, *input, **kwargs)\u001b[0m\n\u001b[1;32m   1100\u001b[0m         if not (self._backward_hooks or self._forward_hooks or self._forward_pre_hooks or _global_backward_hooks\n\u001b[1;32m   1101\u001b[0m                 or _global_forward_hooks or _global_forward_pre_hooks):\n\u001b[0;32m-> 1102\u001b[0;31m             \u001b[0;32mreturn\u001b[0m \u001b[0mforward_call\u001b[0m\u001b[0;34m(\u001b[0m\u001b[0;34m*\u001b[0m\u001b[0minput\u001b[0m\u001b[0;34m,\u001b[0m \u001b[0;34m**\u001b[0m\u001b[0mkwargs\u001b[0m\u001b[0;34m)\u001b[0m\u001b[0;34m\u001b[0m\u001b[0;34m\u001b[0m\u001b[0m\n\u001b[0m\u001b[1;32m   1103\u001b[0m         \u001b[0;31m# Do not call functions when jit is used\u001b[0m\u001b[0;34m\u001b[0m\u001b[0;34m\u001b[0m\u001b[0;34m\u001b[0m\u001b[0m\n\u001b[1;32m   1104\u001b[0m         \u001b[0mfull_backward_hooks\u001b[0m\u001b[0;34m,\u001b[0m \u001b[0mnon_full_backward_hooks\u001b[0m \u001b[0;34m=\u001b[0m \u001b[0;34m[\u001b[0m\u001b[0;34m]\u001b[0m\u001b[0;34m,\u001b[0m \u001b[0;34m[\u001b[0m\u001b[0;34m]\u001b[0m\u001b[0;34m\u001b[0m\u001b[0;34m\u001b[0m\u001b[0m\n",
      "\u001b[0;32m/var/folders/pz/p8qzlrz11ndgpdncscl39lg80000gn/T/ipykernel_95419/1947552867.py\u001b[0m in \u001b[0;36mforward\u001b[0;34m(self, h_0, attn_mask)\u001b[0m\n\u001b[1;32m     28\u001b[0m         \u001b[0;31m# print(total_matrix_A_1.shape, h_0.shape)\u001b[0m\u001b[0;34m\u001b[0m\u001b[0;34m\u001b[0m\u001b[0;34m\u001b[0m\u001b[0m\n\u001b[1;32m     29\u001b[0m \u001b[0;34m\u001b[0m\u001b[0m\n\u001b[0;32m---> 30\u001b[0;31m         \u001b[0mscores\u001b[0m \u001b[0;34m=\u001b[0m \u001b[0mtorch\u001b[0m\u001b[0;34m.\u001b[0m\u001b[0mbmm\u001b[0m\u001b[0;34m(\u001b[0m\u001b[0mh_0\u001b[0m\u001b[0;34m,\u001b[0m \u001b[0mtotal_matrix_A_1\u001b[0m\u001b[0;34m)\u001b[0m\u001b[0;34m\u001b[0m\u001b[0;34m\u001b[0m\u001b[0m\n\u001b[0m\u001b[1;32m     31\u001b[0m \u001b[0;34m\u001b[0m\u001b[0m\n\u001b[1;32m     32\u001b[0m         \u001b[0mscores\u001b[0m \u001b[0;34m=\u001b[0m \u001b[0mtorch\u001b[0m\u001b[0;34m.\u001b[0m\u001b[0mbmm\u001b[0m\u001b[0;34m(\u001b[0m\u001b[0mscores\u001b[0m\u001b[0;34m,\u001b[0m\u001b[0mh_0\u001b[0m\u001b[0;34m.\u001b[0m\u001b[0mtranspose\u001b[0m\u001b[0;34m(\u001b[0m\u001b[0;36m1\u001b[0m\u001b[0;34m,\u001b[0m\u001b[0;36m2\u001b[0m\u001b[0;34m)\u001b[0m\u001b[0;34m)\u001b[0m\u001b[0;34m\u001b[0m\u001b[0;34m\u001b[0m\u001b[0m\n",
      "\u001b[0;31mRuntimeError\u001b[0m: Expected 3-dimensional tensor, but got 2-dimensional tensor for argument #1 'batch1' (while checking arguments for bmm)"
     ]
    }
   ],
   "source": [
    "loss=np.empty(X_train_tilde.shape[0])\n",
    "for i in range(X_train_tilde.shape[0]):\n",
    "    temp=net(X_train_tilde[i])[0][-1,:].float()+1e-6\n",
    "    loss[i]=-torch.matmul(Target_train[i],torch.log(temp))\n",
    "\n",
    "Loss=sum(loss)/iter\n",
    "print(Loss)"
   ]
  },
  {
   "cell_type": "code",
   "execution_count": null,
   "metadata": {},
   "outputs": [],
   "source": []
  }
 ],
 "metadata": {
  "kernelspec": {
   "display_name": "pytorch_env",
   "language": "python",
   "name": "python3"
  },
  "language_info": {
   "codemirror_mode": {
    "name": "ipython",
    "version": 3
   },
   "file_extension": ".py",
   "mimetype": "text/x-python",
   "name": "python",
   "nbconvert_exporter": "python",
   "pygments_lexer": "ipython3",
   "version": "3.8.12"
  }
 },
 "nbformat": 4,
 "nbformat_minor": 2
}
