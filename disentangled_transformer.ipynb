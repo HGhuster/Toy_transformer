{
 "cells": [
  {
   "cell_type": "markdown",
   "metadata": {},
   "source": [
    "# Design word embedding and positional encoding"
   ]
  },
  {
   "cell_type": "markdown",
   "metadata": {},
   "source": [
    "$$   x_i=embed(s_{1:T};(E,P))_i=Ee_{s_i}+Pe_i \\quad for\\enspace i=1,2,\\cdots,T$$\n",
    "\n",
    "We choose to use $10\\times 10$ orthogonal matrix to initialize $E$ and use positional encoding in *attention is all you need* to set $P$"
   ]
  },
  {
   "cell_type": "code",
   "execution_count": 46,
   "metadata": {},
   "outputs": [],
   "source": [
    "T=20\n",
    "S=10\n",
    "d=10"
   ]
  },
  {
   "cell_type": "code",
   "execution_count": 19,
   "metadata": {},
   "outputs": [
    {
     "name": "stdout",
     "output_type": "stream",
     "text": [
      "(10, 30)\n"
     ]
    }
   ],
   "source": [
    "# set d=S=10,T=20\n",
    "import numpy as np\n",
    "import matplotlib.pyplot as plt\n",
    "\n",
    "#dim(E)=10*10, set E as an 10*10 orthonormal matrix\n",
    "#use QR decomposition to generate E\n",
    "rand_E=np.random.randn(S,S)\n",
    "E,_=np.linalg.qr(rand_E)\n",
    "# print(E@E.T)\n",
    "\n",
    "#dime(P)=10*20\n",
    "def positional_encoding(d, T):\n",
    "    # Initialize the positional encoding matrix\n",
    "    pos_enc = np.zeros((T, d))\n",
    "    \n",
    "    # Each position in the time step\n",
    "    for pos in range(T):\n",
    "        for i in range(0, d):\n",
    "            if i % 2 == 0:\n",
    "                # Apply the sine function for even indices\n",
    "                pos_enc[pos, i] = np.sin(pos / (10000 ** (i / d)))\n",
    "            else:\n",
    "                # Apply the cosine function for odd indices\n",
    "                pos_enc[pos, i] = np.cos(pos / (10000 ** ((i - 1) / d)))\n",
    "    \n",
    "    pos_enc=np.array(pos_enc).T\n",
    "\n",
    "    return pos_enc\n",
    "\n",
    "# Dimensionality and number of positions\n",
    "dim = 10\n",
    "num_pos = 20\n",
    "\n",
    "# Get the positional encoding matrix\n",
    "P = positional_encoding(dim, num_pos)\n",
    "\n",
    "#Concatenate E and P\n",
    "\n",
    "EP=np.concatenate((E, P), axis=1)\n",
    "print(EP.shape)\n"
   ]
  },
  {
   "cell_type": "markdown",
   "metadata": {},
   "source": [
    "$$\\tilde{X}^T=\\begin{bmatrix}\n",
    "    e_{s_1}& e_{s_2}&\\cdots&e_{s_T}\\\\\n",
    "    e_1&e_2&\\cdots&e_T\n",
    "\\end{bmatrix}=\\begin{bmatrix}\n",
    "    \\mathcal{E}_{s_{1:T}}\\\\\n",
    "    \\mathbb{I}_{T}\n",
    "\\end{bmatrix}$$\n",
    "\n",
    "Generate $\\mathbb{I}_{T}$"
   ]
  },
  {
   "cell_type": "code",
   "execution_count": 20,
   "metadata": {},
   "outputs": [
    {
     "data": {
      "text/plain": [
       "<matplotlib.colorbar.Colorbar at 0x7fcfe24a27f0>"
      ]
     },
     "execution_count": 20,
     "metadata": {},
     "output_type": "execute_result"
    },
    {
     "data": {
      "image/png": "[encoded data removed]",
      "text/plain": [
       "<Figure size 432x288 with 2 Axes>"
      ]
     },
     "metadata": {
      "needs_background": "light"
     },
     "output_type": "display_data"
    }
   ],
   "source": [
    "I_t=np.identity(20)\n",
    "plt.imshow(I_t, cmap='hot')  # 'hot' is a popular colormap for heatmaps\n",
    "plt.colorbar()  # Show color scale"
   ]
  },
  {
   "cell_type": "markdown",
   "metadata": {},
   "source": [
    "# Generate the causal graph. \n",
    "\n",
    "1. Derive the parent node vector with length $T=[t_1,t_2,\\cdots,t_T]$.\n",
    "2. In the vector, let $t_i=0$ denotes that node $i$ has no parent, i.e. the node follows the prior distribution.\n",
    "3. Let $t_i=j$ denote that node $i$'s parent is node $j$."
   ]
  },
  {
   "cell_type": "markdown",
   "metadata": {},
   "source": [
    "### Examples of causal graph and their visualizations"
   ]
  },
  {
   "cell_type": "markdown",
   "metadata": {},
   "source": [
    "Example 1:\n",
    "\n",
    "$$p(1)=0,p(2i)=2i-1,\\enspace \\forall i>0$$"
   ]
  },
  {
   "cell_type": "code",
   "execution_count": 21,
   "metadata": {},
   "outputs": [
    {
     "data": {
      "text/plain": [
       "<matplotlib.colorbar.Colorbar at 0x7fd019395160>"
      ]
     },
     "execution_count": 21,
     "metadata": {},
     "output_type": "execute_result"
    },
    {
     "data": {
      "image/png": "[encoded data removed]",
      "text/plain": [
       "<Figure size 432x288 with 2 Axes>"
      ]
     },
     "metadata": {
      "needs_background": "light"
     },
     "output_type": "display_data"
    }
   ],
   "source": [
    "p=np.zeros((22,22))\n",
    "for i in range(1,20):\n",
    "    if (i+1)%2==0:\n",
    "        p[i,i-1]=1\n",
    "\n",
    "plt.imshow(p, cmap='hot')  # 'hot' is a popular colormap for heatmaps\n",
    "plt.colorbar()  # Show color scale"
   ]
  },
  {
   "cell_type": "markdown",
   "metadata": {},
   "source": [
    "### Generate Triansition matrix\n",
    "\n",
    "The prior $P_\\pi$ is choosen so that each row of $\\pi$ is sampled i.i.d. from the Dirichlet distribution with parameter $\\alpha$, i.e. $\\pi(\\cdot|s)\\sim Dir(\\alpha\\cdot 1_S)$, for varying values of $\\alpha$."
   ]
  },
  {
   "cell_type": "code",
   "execution_count": 22,
   "metadata": {},
   "outputs": [
    {
     "name": "stdout",
     "output_type": "stream",
     "text": [
      "[1. 1. 1. 1. 1. 1. 1. 1. 1. 1.]\n"
     ]
    }
   ],
   "source": [
    "Transition_matrix=np.zeros((10,10))\n",
    "for i in range(1,11):\n",
    "    one_s=np.ones(10)\n",
    "    alpha=np.random.dirichlet(i*one_s)\n",
    "    Transition_matrix[i-1]=alpha\n",
    "\n",
    "# check the sum of each row is 1\n",
    "print(np.sum(Transition_matrix,axis=1))"
   ]
  },
  {
   "cell_type": "markdown",
   "metadata": {},
   "source": [
    "### Calculate the stationary distribution"
   ]
  },
  {
   "cell_type": "code",
   "execution_count": 23,
   "metadata": {},
   "outputs": [
    {
     "name": "stdout",
     "output_type": "stream",
     "text": [
      "Check the validity of the stationary distribution:\n",
      " 3.608224830031759e-16\n"
     ]
    }
   ],
   "source": [
    "# Calculate the left eigenvectors and eigenvalues\n",
    "eigenvalues, left_eigenvectors = np.linalg.eig(Transition_matrix.T)\n",
    "\n",
    "# Find the index of the eigenvalue closest to 1\n",
    "index = np.argmin(np.abs(eigenvalues - 1))\n",
    "\n",
    "# Extract the corresponding left eigenvector and normalize it\n",
    "stationary_distribution = np.real(left_eigenvectors[:, index])\n",
    "stationary_distribution /= stationary_distribution.sum()\n",
    "\n",
    "# print(\"Stationary Distribution:\\n\", stationary_distribution)\n",
    "\n",
    "# Check the validity of the stationary distribution\n",
    "print(\"Check the validity of the stationary distribution:\\n\", sum(np.abs(stationary_distribution @ Transition_matrix-stationary_distribution)))"
   ]
  },
  {
   "cell_type": "markdown",
   "metadata": {},
   "source": [
    "### Generate random sequence with causal structure\n",
    "\n",
    "There are 20 nodes and each nodes has 10 potential status\n",
    "\n",
    "We need to generate the status of each node sequentially\n",
    "\n",
    "1. When the node has no parent, its status is determined by the stationary distribution\n",
    "2. When the node $i$ has parent $j$, its status is determined by $\\pi(\\cdot|s_{p(i)})=\\pi(\\cdot|s_j)$"
   ]
  },
  {
   "cell_type": "code",
   "execution_count": 28,
   "metadata": {},
   "outputs": [],
   "source": [
    "#Parent vector where 0 represents no parent\n",
    "Parent_vec=np.array([0,1,0,3,0,5,0,7,0,9,0,11,0,13,0,15,0,17,0,0,20])\n",
    "\n",
    "# print(T[3])\n",
    "\n",
    "#Generate iter random sequence with causal structure\n",
    "\n",
    "iter=100000\n",
    "Status=np.empty((iter,T+1))\n",
    "\n",
    "for j in range(iter):\n",
    "\n",
    "    #i is the index of the node\n",
    "    for i in range(T-1):\n",
    "        #If the node has no parent, the status of the node is generated from the stationary distribution\n",
    "        if Parent_vec[i]==0:\n",
    "            Status[j,i]=np.random.choice(range(S),1,p=stationary_distribution)\n",
    "        \n",
    "        else:\n",
    "            #The parent of node i is Parent_vec[i]\n",
    "            #The status of parent node is Status[j,Parent_vec[i]-1]\n",
    "            #The conditional probability of the status of node i given its parent node Parent_vec[i] is Transition_matrix[Status[Parent_vec[i]-1]]\n",
    "            Status[j,i]=np.random.choice(range(S),1,p=Transition_matrix[int(Status[j,Parent_vec[i]-1])])\n",
    "\n",
    "    #The status of the node T is generated from the uniform distribution    \n",
    "    Status[j,T-1]=np.random.choice(range(S),1)\n",
    "\n",
    "    #The status of the node T+1 is the child of the node T\n",
    "    Status[j,T]=np.random.choice(range(S),1,p=Transition_matrix[int(Status[j,T-1])])\n"
   ]
  },
  {
   "cell_type": "code",
   "execution_count": 29,
   "metadata": {},
   "outputs": [],
   "source": [
    "Status=Status.astype(int)"
   ]
  },
  {
   "cell_type": "code",
   "execution_count": 30,
   "metadata": {},
   "outputs": [
    {
     "data": {
      "text/plain": [
       "(100000, 21)"
      ]
     },
     "execution_count": 30,
     "metadata": {},
     "output_type": "execute_result"
    }
   ],
   "source": [
    "Status.shape"
   ]
  },
  {
   "cell_type": "code",
   "execution_count": 32,
   "metadata": {},
   "outputs": [],
   "source": [
    "#Store the generated data\n",
    "\n",
    "np.savetxt(\"Status_2024_04_30.txt\", Status, fmt='%d')  # '%d' for integer format"
   ]
  },
  {
   "cell_type": "code",
   "execution_count": null,
   "metadata": {},
   "outputs": [],
   "source": []
  },
  {
   "cell_type": "code",
   "execution_count": 31,
   "metadata": {},
   "outputs": [],
   "source": [
    "#Status of the last node\n",
    "# print(Status[:,-1])"
   ]
  },
  {
   "cell_type": "markdown",
   "metadata": {},
   "source": [
    "Remember that \n",
    "\n",
    "$$\\tilde{X}^T=\\begin{bmatrix}\n",
    "    e_{s_1}& e_{s_2}&\\cdots&e_{s_T}\\\\\n",
    "    e_1&e_2&\\cdots&e_T\n",
    "\\end{bmatrix}=\\begin{bmatrix}\n",
    "    \\mathcal{E}_{s_{1:T}}\\\\\n",
    "    \\mathbb{I}_{T}\n",
    "\\end{bmatrix}$$\n",
    "\n",
    "we have generate $\\mathbb{I}_{T}$ before and we need to generate $\\mathcal{E}_{s_{1:T}}$ for each sequence"
   ]
  },
  {
   "cell_type": "code",
   "execution_count": 9,
   "metadata": {},
   "outputs": [],
   "source": [
    "I_10=np.identity(S)\n",
    "\n",
    "X_tilde_T=np.empty((iter,S+T,T))\n",
    "\n",
    "for i in range(iter):\n",
    "\n",
    "    epsilon_1_T=np.zeros((S,T))\n",
    "\n",
    "    #print(T)\n",
    "\n",
    "    for k in range(T):\n",
    "        epsilon_1_T[:,int(k)]=I_10[:,int(Status[i,int(k)])]\n",
    "\n",
    "    #print(Status[0])\n",
    "\n",
    "    X_tilde_T[i]=np.concatenate((epsilon_1_T,I_t),axis=0)\n"
   ]
  },
  {
   "cell_type": "code",
   "execution_count": 10,
   "metadata": {},
   "outputs": [
    {
     "data": {
      "text/plain": [
       "(1000, 30, 20)"
      ]
     },
     "execution_count": 10,
     "metadata": {},
     "output_type": "execute_result"
    }
   ],
   "source": [
    "X_tilde_T.shape"
   ]
  },
  {
   "cell_type": "markdown",
   "metadata": {},
   "source": [
    "$$\\begin{equation}\n",
    "    \\begin{split}\n",
    "        h_T^{(1)^T}\\tilde A^{(2)}h_i&=[\\tilde x_T,attn(\\tilde X;\\tilde A^{(1)})_T]\\begin{bmatrix}\n",
    "            0_{S\\times S} & 0_{S\\times T} & A^{(2)} & 0_{S\\times T}\\\\\n",
    "            0_{T\\times S} & 0_{T\\times T} & 0_{T\\times S} & 0_{T\\times T}\\\\\n",
    "            0_{S\\times S} & 0_{S\\times T} & 0_{S\\times S} & 0_{S\\times T}\\\\\n",
    "            0_{T\\times S} & 0_{T\\times T} & 0_{T\\times S} & 0_{T\\times T}\\\\\n",
    "        \\end{bmatrix}\\begin{bmatrix}\n",
    "            \\tilde x_i^T\\\\\n",
    "            attn(\\tilde X;\\tilde A^{(1)})_i^T\n",
    "        \\end{bmatrix}\\\\\n",
    "        &=\\tilde x_T\\begin{bmatrix}\n",
    "            A^{(2)} & 0_{S\\times T}\\\\\n",
    "            0_{T\\times S} & 0_{T\\times T}\n",
    "        \\end{bmatrix}attn(\\tilde X;\\tilde A^{(1)})_i^T\\\\\n",
    "        &=\\textcolor{red}{[e_{s_T}^T,e_T^T]}\\begin{bmatrix}\n",
    "            A^{(2)} & 0_{S\\times T}\\\\\n",
    "            0_{T\\times S} & 0_{T\\times T}\n",
    "        \\end{bmatrix}attn(\\tilde X;\\tilde A^{(1)})_i^T\\\\\n",
    "    \\end{split}\n",
    "\\end{equation}$$"
   ]
  },
  {
   "cell_type": "code",
   "execution_count": 11,
   "metadata": {},
   "outputs": [
    {
     "data": {
      "text/plain": [
       "array([[1., 0., 0., 0., 0., 0., 0., 0., 0., 0., 0., 0., 0., 0., 0., 0.,\n",
       "        0., 0., 0., 0., 0., 0., 0., 0., 0., 0., 0., 0., 0., 1.]])"
      ]
     },
     "execution_count": 11,
     "metadata": {},
     "output_type": "execute_result"
    }
   ],
   "source": [
    "X_tilde_T[0,:,-1].reshape(1,-1)"
   ]
  },
  {
   "cell_type": "markdown",
   "metadata": {},
   "source": [
    "$$\\begin{equation}\n",
    "    \\begin{split}\n",
    "        h_T^{(1)^T}\\tilde A^{(2)}h^{(1)}&=\\textcolor{red}{[e_{s_T}^T,e_T^T]}\\begin{bmatrix}\n",
    "            A^{(2)} & 0_{S\\times T}\\\\\n",
    "            0_{T\\times S} & 0_{T\\times T}\n",
    "        \\end{bmatrix}attn(\\tilde X;\\tilde A^{(1)})^T\\\\\n",
    "        &=\\bar x_T^TA^{(2)}\\bar X^T\\mathcal{S}(MASK(A^{(1)}))^T\n",
    "    \\end{split}\n",
    "\\end{equation}$$\n",
    "\n",
    "where $\\textcolor{red}{\\bar x_T^T}=e_{S_T}^T$, "
   ]
  },
  {
   "cell_type": "code",
   "execution_count": 12,
   "metadata": {},
   "outputs": [
    {
     "data": {
      "text/plain": [
       "array([[1., 0., 0., 0., 0., 0., 0., 0., 0., 0.]])"
      ]
     },
     "execution_count": 12,
     "metadata": {},
     "output_type": "execute_result"
    }
   ],
   "source": [
    "X_tilde_T[0,0:10,-1].reshape(1,-1)"
   ]
  },
  {
   "cell_type": "markdown",
   "metadata": {},
   "source": [
    "$\\bar X^T=[e_{S_1},e_{S_2},\\cdots,e_{S_T}]$"
   ]
  },
  {
   "cell_type": "code",
   "execution_count": 13,
   "metadata": {},
   "outputs": [
    {
     "data": {
      "text/plain": [
       "(10, 20)"
      ]
     },
     "execution_count": 13,
     "metadata": {},
     "output_type": "execute_result"
    }
   ],
   "source": [
    "X_tilde_T[0,0:10,:].shape"
   ]
  },
  {
   "cell_type": "markdown",
   "metadata": {},
   "source": [
    "Since Lemma 1 tell us that the output of Transformer can be simplified as \n",
    "\n",
    "$$\n",
    "\\widetilde{TF}_{\\tilde\\theta}(S_{1:T})=\\bar X^T\\mathcal{S}\\bigl(\\mathcal{S}(MASK(A^{(1)}))\\bar XA^{(2)^T}\\bar x_T\\bigr)\n",
    "$$\n",
    "\n",
    "Notice that the out softmax is column wise and the inner softmax is row wise.\n",
    "\n",
    "We can simplify the output of transformer as follow:"
   ]
  },
  {
   "cell_type": "code",
   "execution_count": 14,
   "metadata": {},
   "outputs": [],
   "source": [
    "#define MASK function, where MASK(M_{ij})=M_{ij} if i>=j, otherwise -inf\n",
    "def MASK(M):\n",
    "\n",
    "    # Number of rows and columns\n",
    "    num_rows, num_cols = M.shape\n",
    "\n",
    "    # Create a new matrix for the masked results\n",
    "    masked_matrix = np.full_like(M, fill_value=-np.inf, dtype=float)\n",
    "\n",
    "    # Apply the condition i >= j\n",
    "    for i in range(num_rows):\n",
    "        for j in range(num_cols):\n",
    "            if i >= j:\n",
    "                masked_matrix[i, j] = M[i, j]\n",
    "\n",
    "    return masked_matrix\n"
   ]
  },
  {
   "cell_type": "code",
   "execution_count": 15,
   "metadata": {},
   "outputs": [],
   "source": [
    "import torch\n",
    "from torch.autograd import Variable\n",
    "from scipy.special import softmax\n",
    "\n",
    "#store the output of transformer\n",
    "TF=np.empty((S,iter))\n",
    "\n",
    "delta=1e-3\n",
    "\n",
    "#define TF+delta\n",
    "TF_delta=np.empty((S,iter))\n",
    "\n",
    "# A_1=Variable(torch.zeros(T, T), requires_grad=True)\n",
    "# A_2=Variable(torch.zeros(S, S), requires_grad=True)\n",
    "\n",
    "beta_0=1e-3\n",
    "\n",
    "#initialize A_1 and A_2\n",
    "A_1=np.zeros((T,T))\n",
    "A_2=beta_0*np.identity(S)\n",
    "\n",
    "\n",
    "#Compute outputs of transformer\n",
    "for i in range(iter):\n",
    "    X_T=X_tilde_T[i,0:10,:]\n",
    "    x_T=X_tilde_T[i,0:10,-1]#.reshape(1,-1)\n",
    "    TF[:,i]=X_T@ softmax(softmax(MASK(A_1),axis=1)@X_T.T@ A_2.T@x_T.T,axis=0)\n",
    "    \n",
    "    #normalize\n",
    "    TF[:,i]=TF[:,i]/sum(TF[:,i])\n",
    "\n",
    "    #store TF+delta\n",
    "    TF_delta[:,i]=TF[:,i]+delta"
   ]
  },
  {
   "cell_type": "markdown",
   "metadata": {},
   "source": [
    "$$\n",
    "\\widetilde{TF}_{\\tilde\\theta}(S_{1:T})=\\bar X^T\\mathcal{S}\\bigl(\\mathcal{S}(MASK(A^{(1)}))\\bar XA^{(2)^T}\\bar x_T\\bigr)\n",
    "$$\n",
    "$$\n",
    "\\begin{equation*}\n",
    "    \\begin{split}\n",
    "        attn(\\tilde h^{(0)};\\tilde{A}_1^{(1)})&=\\mathcal{S}(MASK(\\tilde h^{(0)}\\tilde{A}_1^{(1)}\\tilde h^{(0)T}))\\tilde h^{(0)}\\\\\n",
    "        &=S(MASK(\\tilde X Z^{(0)T}A_1Z^{(0)}\\tilde X^T))\\tilde X\\\\\n",
    "        &=S(MASK(h^{(0)} A_1h^{(0)T}))\\tilde X\n",
    "    \\end{split}\n",
    "\\end{equation*}\n",
    "$$"
   ]
  },
  {
   "cell_type": "markdown",
   "metadata": {},
   "source": [
    "Since we need to constrain the trainable entries of $\\widetilde{A}^{(1)}$ and $\\widetilde{A}^{(2)}$ as\n",
    "\n",
    "$$\n",
    "\\begin{equation*}\n",
    "    \\begin{split}\n",
    "        \\tilde A^{(1)}&=\\begin{bmatrix}\n",
    "            0_{S\\times S} & 0_{S\\times T}\\\\\n",
    "            0_{T\\times S} & A^{(1)}_1\n",
    "        \\end{bmatrix}\\\\\n",
    "        % \\tilde A_2^{(1)}&=\\begin{bmatrix}\n",
    "        %     0_{S\\times S} & 0_{S\\times T}\\\\\n",
    "        %     0_{T\\times S} & A^{(1)}_2\n",
    "        % \\end{bmatrix}\\\\\n",
    "        \\tilde A^{(2)}&=\\begin{bmatrix}\n",
    "            0_{S\\times S} & 0_{S\\times T} & A^{(2)} & 0_{S\\times T}\\\\\n",
    "            0_{T\\times S} & 0_{T\\times T} & 0_{T\\times S} & 0_{T\\times T}\\\\\n",
    "            0_{S\\times S} & 0_{S\\times T} & 0_{S\\times S} & 0_{S\\times T}\\\\\n",
    "            0_{T\\times S} & 0_{T\\times T} & 0_{T\\times S} & 0_{T\\times T}\\\\\n",
    "        \\end{bmatrix}\\\\\n",
    "    \\end{split}\n",
    "\\end{equation*}\n",
    "$$"
   ]
  },
  {
   "cell_type": "code",
   "execution_count": 54,
   "metadata": {},
   "outputs": [
    {
     "name": "stdout",
     "output_type": "stream",
     "text": [
      "tensor([0., 0., 0., 0., 0., 0., 0., 0., 0., 0., 0., 0., 0., 0., 0., 0., 0., 0., 0., 0., 0., 0., 0., 0.,\n",
      "        0., 0., 0., 0., 0., 0.])\n",
      "tensor([[0., 0., 0., 0., 0., 0., 0., 0., 0., 0., 1., 1., 1., 1., 1., 1., 1., 1.,\n",
      "         1., 1., 1., 1., 1., 1., 1., 1., 1., 1., 1., 1.],\n",
      "        [0., 0., 0., 0., 0., 0., 0., 0., 0., 0., 1., 1., 1., 1., 1., 1., 1., 1.,\n",
      "         1., 1., 1., 1., 1., 1., 1., 1., 1., 1., 1., 1.],\n",
      "        [0., 0., 0., 0., 0., 0., 0., 0., 0., 0., 1., 1., 1., 1., 1., 1., 1., 1.,\n",
      "         1., 1., 1., 1., 1., 1., 1., 1., 1., 1., 1., 1.],\n",
      "        [0., 0., 0., 0., 0., 0., 0., 0., 0., 0., 1., 1., 1., 1., 1., 1., 1., 1.,\n",
      "         1., 1., 1., 1., 1., 1., 1., 1., 1., 1., 1., 1.],\n",
      "        [0., 0., 0., 0., 0., 0., 0., 0., 0., 0., 1., 1., 1., 1., 1., 1., 1., 1.,\n",
      "         1., 1., 1., 1., 1., 1., 1., 1., 1., 1., 1., 1.],\n",
      "        [0., 0., 0., 0., 0., 0., 0., 0., 0., 0., 1., 1., 1., 1., 1., 1., 1., 1.,\n",
      "         1., 1., 1., 1., 1., 1., 1., 1., 1., 1., 1., 1.],\n",
      "        [0., 0., 0., 0., 0., 0., 0., 0., 0., 0., 1., 1., 1., 1., 1., 1., 1., 1.,\n",
      "         1., 1., 1., 1., 1., 1., 1., 1., 1., 1., 1., 1.],\n",
      "        [0., 0., 0., 0., 0., 0., 0., 0., 0., 0., 1., 1., 1., 1., 1., 1., 1., 1.,\n",
      "         1., 1., 1., 1., 1., 1., 1., 1., 1., 1., 1., 1.],\n",
      "        [0., 0., 0., 0., 0., 0., 0., 0., 0., 0., 1., 1., 1., 1., 1., 1., 1., 1.,\n",
      "         1., 1., 1., 1., 1., 1., 1., 1., 1., 1., 1., 1.],\n",
      "        [0., 0., 0., 0., 0., 0., 0., 0., 0., 0., 1., 1., 1., 1., 1., 1., 1., 1.,\n",
      "         1., 1., 1., 1., 1., 1., 1., 1., 1., 1., 1., 1.],\n",
      "        [0., 0., 0., 0., 0., 0., 0., 0., 0., 0., 1., 1., 1., 1., 1., 1., 1., 1.,\n",
      "         1., 1., 1., 1., 1., 1., 1., 1., 1., 1., 1., 1.],\n",
      "        [0., 0., 0., 0., 0., 0., 0., 0., 0., 0., 1., 1., 1., 1., 1., 1., 1., 1.,\n",
      "         1., 1., 1., 1., 1., 1., 1., 1., 1., 1., 1., 1.],\n",
      "        [0., 0., 0., 0., 0., 0., 0., 0., 0., 0., 1., 1., 1., 1., 1., 1., 1., 1.,\n",
      "         1., 1., 1., 1., 1., 1., 1., 1., 1., 1., 1., 1.],\n",
      "        [0., 0., 0., 0., 0., 0., 0., 0., 0., 0., 1., 1., 1., 1., 1., 1., 1., 1.,\n",
      "         1., 1., 1., 1., 1., 1., 1., 1., 1., 1., 1., 1.],\n",
      "        [0., 0., 0., 0., 0., 0., 0., 0., 0., 0., 1., 1., 1., 1., 1., 1., 1., 1.,\n",
      "         1., 1., 1., 1., 1., 1., 1., 1., 1., 1., 1., 1.],\n",
      "        [0., 0., 0., 0., 0., 0., 0., 0., 0., 0., 1., 1., 1., 1., 1., 1., 1., 1.,\n",
      "         1., 1., 1., 1., 1., 1., 1., 1., 1., 1., 1., 1.],\n",
      "        [0., 0., 0., 0., 0., 0., 0., 0., 0., 0., 1., 1., 1., 1., 1., 1., 1., 1.,\n",
      "         1., 1., 1., 1., 1., 1., 1., 1., 1., 1., 1., 1.],\n",
      "        [0., 0., 0., 0., 0., 0., 0., 0., 0., 0., 1., 1., 1., 1., 1., 1., 1., 1.,\n",
      "         1., 1., 1., 1., 1., 1., 1., 1., 1., 1., 1., 1.],\n",
      "        [0., 0., 0., 0., 0., 0., 0., 0., 0., 0., 1., 1., 1., 1., 1., 1., 1., 1.,\n",
      "         1., 1., 1., 1., 1., 1., 1., 1., 1., 1., 1., 1.],\n",
      "        [0., 0., 0., 0., 0., 0., 0., 0., 0., 0., 1., 1., 1., 1., 1., 1., 1., 1.,\n",
      "         1., 1., 1., 1., 1., 1., 1., 1., 1., 1., 1., 1.]])\n"
     ]
    }
   ],
   "source": [
    "#S=10\n",
    "# T=20\n",
    "\n",
    "import torch\n",
    "\n",
    "# Example of defining a matrix\n",
    "total_matrix_A_1 = torch.randn(int(S+T), int(S+T), requires_grad=True)\n",
    "total_matrix_A_2 = torch.randn(int(2*S+2*T), int(2*S+2*T), requires_grad=True)\n",
    "\n",
    "# Define a mask where True means trainable\n",
    "mask_A_1 = torch.tensor([[True if (i in range(S,int(S+T))  and  j in range(int(S),int(S+T))) else False for j in range(int(S+T))] for i in range(int(S+T))])\n",
    "mask_A_2 = torch.tensor([[True if (i in range(0,S)  and  j in range(int(S+T),int(2*S+T))) else False for j in range(int(2*S+2*T))] for i in range(int(2*S+2*T))])\n",
    "\n",
    "# Hook to apply the mask to the gradients\n",
    "def apply_mask_1(grad):\n",
    "    return grad * mask_A_1.type_as(grad)\n",
    "\n",
    "def apply_mask_2(grad):\n",
    "    return grad * mask_A_2.type_as(grad)\n",
    "\n",
    "# Attach the hook\n",
    "total_matrix_A_1.register_hook(apply_mask_1)\n",
    "\n",
    "total_matrix_A_2.register_hook(apply_mask_2)\n",
    "\n",
    "\n",
    "\n",
    "# # Example usage in a dummy forward pass\n",
    "# output_2 = total_matrix_A_2.sum()\n",
    "# output_2.backward()\n",
    "\n",
    "\n",
    "# # Set print options\n",
    "# torch.set_printoptions(threshold=10_000)\n",
    "# # Check gradients\n",
    "# print(total_matrix_A_2.grad)\n",
    "\n",
    "\n",
    "\n",
    "# output_1 = total_matrix_A_1.sum()\n",
    "# output_1.backward()\n",
    "# print(total_matrix_A_1.grad[10:])\n"
   ]
  },
  {
   "cell_type": "code",
   "execution_count": null,
   "metadata": {},
   "outputs": [],
   "source": [
    "import torch.nn as nn\n",
    "import torch.optim as optim\n",
    "\n",
    "for i in range(iter):\n",
    "    X_T=X_tilde_T[i,0:10,:]\n",
    "    x_T=X_tilde_T[i,0:10,-1]#.reshape(1,-1)\n",
    "    \n",
    "    h_0=X_T@EP\n",
    "\n",
    "    score=torch.matmul(torch.matmul(h_0,A_1),h_0.T)\n",
    "\n",
    "    TF[:,i]=X_T@ softmax(softmax(MASK(A_1),axis=1)@X_T.T@ A_2.T@x_T.T,axis=0)"
   ]
  },
  {
   "cell_type": "code",
   "execution_count": null,
   "metadata": {},
   "outputs": [],
   "source": []
  },
  {
   "cell_type": "markdown",
   "metadata": {},
   "source": [
    "$$\n",
    "\\begin{equation*}\n",
    "    \\begin{split}\n",
    "        L(\\theta)&=-\\mathbb{E}_{\\pi,S_{1:T}}\\bigl[\\sum_{s'\\in [S]}\\textcolor{red}{\\pi(s'|s_T)}\\log (f_\\theta(s_{1:T})_{s'}+\\epsilon)\\bigr]\\\\\n",
    "        % &=-\\frac{1}{S}\\mathbb{E}_{\\pi,X}\\bigl[\\sum_{s,s'\\in [S]}\\pi(s'|s)\\log (f_\\theta(X;s)_{s'}+\\epsilon)\\bigr]\n",
    "    \\end{split}\n",
    "\\end{equation*}\n",
    "$$\n",
    "\n",
    "Since we already got $s_T$ for each random sequences *Status[:,-1]*, we can generate the conditional probability $\\pi(\\cdot|s_T)$"
   ]
  },
  {
   "cell_type": "code",
   "execution_count": 56,
   "metadata": {},
   "outputs": [],
   "source": [
    "pi_given_ST=np.empty((S,iter))\n",
    "\n",
    "for i in range(iter):\n",
    "    pi_given_ST[:,i]=Transition_matrix[int(Status[i,-1])]\n",
    "\n",
    "# print(pi_given_ST.shape)\n",
    "\n",
    "#Store the target values\n",
    "np.savetxt(\"Target_2024_04_30.txt\", pi_given_ST, fmt='%f')  # '%d' for integer format"
   ]
  },
  {
   "cell_type": "markdown",
   "metadata": {},
   "source": [
    "Then we can calculate the loss:"
   ]
  },
  {
   "cell_type": "code",
   "execution_count": 17,
   "metadata": {},
   "outputs": [
    {
     "name": "stdout",
     "output_type": "stream",
     "text": [
      "2.819071921028783\n"
     ]
    }
   ],
   "source": [
    "loss=np.empty(iter)\n",
    "for i in range(iter):\n",
    "    loss[i]=-np.dot(pi_given_ST[:,i],np.log(TF_delta[:,i]))\n",
    "\n",
    "Loss=sum(loss)/iter\n",
    "print(Loss)"
   ]
  },
  {
   "cell_type": "markdown",
   "metadata": {},
   "source": [
    "# Use GD to train the model"
   ]
  },
  {
   "cell_type": "code",
   "execution_count": null,
   "metadata": {},
   "outputs": [],
   "source": []
  }
 ],
 "metadata": {
  "kernelspec": {
   "display_name": "pytorch_env",
   "language": "python",
   "name": "python3"
  },
  "language_info": {
   "codemirror_mode": {
    "name": "ipython",
    "version": 3
   },
   "file_extension": ".py",
   "mimetype": "text/x-python",
   "name": "python",
   "nbconvert_exporter": "python",
   "pygments_lexer": "ipython3",
   "version": "3.8.12"
  }
 },
 "nbformat": 4,
 "nbformat_minor": 2
}
